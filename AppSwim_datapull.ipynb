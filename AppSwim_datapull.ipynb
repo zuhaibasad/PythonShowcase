{
  "nbformat": 4,
  "nbformat_minor": 0,
  "metadata": {
    "colab": {
      "name": "AppSwim_datapull.ipynb",
      "provenance": [],
      "collapsed_sections": []
    },
    "kernelspec": {
      "name": "python3",
      "display_name": "Python 3"
    }
  },
  "cells": [
    {
      "cell_type": "markdown",
      "metadata": {
        "id": "7XZuiXvpdNlX"
      },
      "source": [
        "### This Notebook is a mix of codes used at various places. It was an Application development company, they wanted to track all their Applications via different tracking platforms (Applovin, Ironsource, Unity Ads). So this notebook has API data pulls from all these platforms and storing data into their BigQuery datawarehouse.\n",
        "\n",
        "*Note that all API keys/secret keys/auth token are expired and not exposed in this notebook."
      ]
    },
    {
      "cell_type": "code",
      "metadata": {
        "id": "EgdiXSAZJGL1",
        "colab": {
          "base_uri": "https://localhost:8080/",
          "height": 35
        },
        "outputId": "2343aeb1-54fc-43a1-bb7f-4c4fea0bcdf4"
      },
      "source": [
        "'abcd'.translate('a'.maketrans('abc','bcd'))"
      ],
      "execution_count": null,
      "outputs": [
        {
          "output_type": "execute_result",
          "data": {
            "application/vnd.google.colaboratory.intrinsic+json": {
              "type": "string"
            },
            "text/plain": [
              "'bcdd'"
            ]
          },
          "metadata": {
            "tags": []
          },
          "execution_count": 53
        }
      ]
    },
    {
      "cell_type": "code",
      "metadata": {
        "id": "EfKslRsAQGtS"
      },
      "source": [
        "## This script will extract data from Applovin Mediation Platform\n",
        "## and Iron Source Mediation Platform\n",
        "## using their APIs and will stream data after processing to AppSwim\n",
        "## BigQuery Datawarehouse. \n",
        "\n",
        "import json\n",
        "import requests\n",
        "import pandas as pd\n",
        "import datetime\n",
        "import base64\n",
        "from google.cloud import bigquery\n",
        "import pandas_gbq\n",
        "from google import oauth2\n",
        "import copy\n",
        "import time\n",
        "import re\n",
        "import csv"
      ],
      "execution_count": null,
      "outputs": []
    },
    {
      "cell_type": "code",
      "metadata": {
        "id": "dZPRf8mwRib2"
      },
      "source": [
        "import random"
      ],
      "execution_count": null,
      "outputs": []
    },
    {
      "cell_type": "code",
      "metadata": {
        "id": "GIi_9N45r_e3",
        "colab": {
          "base_uri": "https://localhost:8080/",
          "height": 121
        },
        "outputId": "421de686-e5db-429c-b43a-0fc0c5f8959c"
      },
      "source": [
        "API_KEY = '---'\n",
        "adver_url = \"https://rest.crossinstall.io/v1/advertisers\"\n",
        "headers={\"Api-Key\": API_KEY}\n",
        "\n",
        "resp = requests.get(adver_url, headers=headers)\n",
        "adver_id = json.loads(resp.text)\n",
        "adver_id"
      ],
      "execution_count": null,
      "outputs": [
        {
          "output_type": "execute_result",
          "data": {
            "text/plain": [
              "{'__actions__': {},\n",
              " '__class__': 'advertiser',\n",
              " '__href__': '/v1/advertisers/Bzkk',\n",
              " '__links__': {'advertiser_campaigns': '/v1/advertisers/Bzkk/campaigns'},\n",
              " 'advertiser_id': 'Bzkk',\n",
              " 'name': 'APP SWIM'}"
            ]
          },
          "metadata": {
            "tags": []
          },
          "execution_count": 146
        }
      ]
    },
    {
      "cell_type": "code",
      "metadata": {
        "id": "w5qSqRUotHS-",
        "colab": {
          "base_uri": "https://localhost:8080/",
          "height": 52
        },
        "outputId": "2a5f3edc-451f-41bd-e9b8-e928b4357ac7"
      },
      "source": [
        "headers={\"Api-Key\": 'd9cd30e91a08984e30e201d2651504b5'}\n",
        "camp_id = 'ADS'\n",
        "stats_url = 'https://rest.crossinstall.io/v1/advertisers/Bzkk/campaigns/RSZk/stats/RSZk/1?page_size=10'\n",
        "print(stats_url)\n",
        "resp = requests.get(stats_url, headers=headers)\n",
        "resp.text"
      ],
      "execution_count": null,
      "outputs": [
        {
          "output_type": "stream",
          "text": [
            "https://rest.crossinstall.io/v1/advertisers/Bzkk/campaigns/RSZk/stats/RSZk/1?page_size=10\n"
          ],
          "name": "stdout"
        },
        {
          "output_type": "execute_result",
          "data": {
            "application/vnd.google.colaboratory.intrinsic+json": {
              "type": "string"
            },
            "text/plain": [
              "'{\"__class__\":\"error\",\"__href__\":\"\",\"__links__\":{},\"__action__\":{},\"type\":\"http_error\",\"code\":\"403\",\"message\":\"Access Denied.\",\"context\":[]}'"
            ]
          },
          "metadata": {
            "tags": []
          },
          "execution_count": 147
        }
      ]
    },
    {
      "cell_type": "code",
      "metadata": {
        "id": "d_J9oB2Pty4_"
      },
      "source": [
        "\n",
        "statsId = statsId_example # String | returned in `stats_id` field for a single campaign from\n",
        "`POST /advertisers/{advertiser_id}/campaigns/{campaign_id}` API endpoint\n",
        "\n",
        "page = page_example # String | page number for iterating through results\n",
        "\n",
        "pageSize = pageSize_example # String | number of entries to return per page (50-400) (optional)\n",
        "\n",
        "try:\n",
        "    # Get a page of stats previously requested in postSingleAdvertiserCampaignStats endpoint\n",
        "    api_response = api_instance.get_single_advertiser_campaign_stats_page(advertiserId, campaignId, statsId, page, pageSize=pageSize)\n",
        "    pprint(api_response)\n",
        "except ApiException as e:\n",
        "    print(\"Exception when calling StatsApi->getSingleAdvertiserCampaignStatsPage: %s\\n\" % e)"
      ],
      "execution_count": null,
      "outputs": []
    },
    {
      "cell_type": "code",
      "metadata": {
        "id": "0YSmTBZbXZVZ"
      },
      "source": [
        "## this file app-swim-bi-bq-key.json can be obtained from BigQuery\n",
        "## console in service-account section.\n",
        "## this code initialized BigQuery API client\n",
        "bq_client = bigquery.Client.from_service_account_json('app-swim-bi-bq-key.json')"
      ],
      "execution_count": null,
      "outputs": []
    },
    {
      "cell_type": "markdown",
      "metadata": {
        "id": "SaVVaKv-rLDx"
      },
      "source": [
        "## CrossInstall Data Pull"
      ]
    },
    {
      "cell_type": "code",
      "metadata": {
        "id": "1lgvKZL9rPbs"
      },
      "source": [
        "from __future__ import print_statement\n",
        "import time\n",
        "import swagger_client\n",
        "from swagger_client.rest import ApiException\n",
        "from pprint import pprint\n",
        "\n",
        "# Configure API key authorization: ApiKeyAuth\n",
        "api_key = '---'\n"
      ],
      "execution_count": null,
      "outputs": []
    },
    {
      "cell_type": "markdown",
      "metadata": {
        "id": "tUsYW3cZBVj_"
      },
      "source": [
        "## Ad Colony Data Pull"
      ]
    },
    {
      "cell_type": "code",
      "metadata": {
        "id": "U-LZcHo_BYMM"
      },
      "source": [
        "url = 'https://clients-api.adcolony.com/api/v2/advertiser_summary?user_credentials=wuyxAyJbhAy7c8RBvzf8&dat\\\n",
        "e=07312020&end_date=08122020&format=json&group_by=campaign,ad_group,creative,country,platform&date_group=day'\n",
        "resp = requests.get(url)"
      ],
      "execution_count": null,
      "outputs": []
    },
    {
      "cell_type": "code",
      "metadata": {
        "id": "sky5VM6nCQjl"
      },
      "source": [
        "adcolony_data = json.loads(resp.text)\n",
        "adcolony_data"
      ],
      "execution_count": null,
      "outputs": []
    },
    {
      "cell_type": "code",
      "metadata": {
        "id": "6kBEpO1-nHm8"
      },
      "source": [
        "adcolony_data['results'][0]"
      ],
      "execution_count": null,
      "outputs": []
    },
    {
      "cell_type": "code",
      "metadata": {
        "id": "EPRD5nhBm-1V"
      },
      "source": [
        "job = bq_client.load_table_from_json(adcolony_data['results'], destination='app-swim-bi.adcolony_dataset.adcolony_data')\n",
        "job.result();"
      ],
      "execution_count": null,
      "outputs": []
    },
    {
      "cell_type": "markdown",
      "metadata": {
        "id": "2rChGPxlBCQZ"
      },
      "source": [
        "## Applovin Max Data pull"
      ]
    },
    {
      "cell_type": "code",
      "metadata": {
        "id": "ocegshfQ8soP"
      },
      "source": [
        "## we first get the latest date present in the Applovin data already\n",
        "## we will use this date as startdate and now (means today) as enddate\n",
        "## as parameters to Applovin Reporting API. This saves us from querying\n",
        "## data from begining from API everytime.\n",
        "\n",
        "## SQL query to get MAX date in the data\n",
        "previous_max_date = 'SELECT MAX(day) FROM `app-swim-bi.dashboard_page9.applovinMAX_revenue_report` '\n",
        "## getting query results in pandas dataframe\n",
        "previous_max_date = bq_client.query(previous_max_date).to_dataframe()\n",
        "## converting datetime format to string, by specifying format which is same as \n",
        "## present in the bigquery table\n",
        "previous_max_date = datetime.date.strftime(previous_max_date.values[0][0], format='%Y-%m-%d')"
      ],
      "execution_count": null,
      "outputs": []
    },
    {
      "cell_type": "code",
      "metadata": {
        "id": "7CP3IAgVQiKC"
      },
      "source": [
        "## SDK key for Applovin\n",
        "sdk_key = '---'\n",
        "\n",
        "## this is the Applovin Reporting API key\n",
        "report_key = '---'"
      ],
      "execution_count": null,
      "outputs": []
    },
    {
      "cell_type": "code",
      "metadata": {
        "id": "7LubL_S6uQoA"
      },
      "source": [
        "today = datetime.date.strftime(datetime.date.today(),format='%Y-%m-%d')\n",
        "prev_two_days = datetime.date.strftime(datetime.datetime.strptime(previous_max_date,'%Y-%m-%d') - datetime.timedelta(days=2),format='%Y-%m-%d')"
      ],
      "execution_count": null,
      "outputs": []
    },
    {
      "cell_type": "code",
      "metadata": {
        "id": "4r43US05RoiF"
      },
      "source": [
        "## the url provided by Applovin API to pull data from in json output\n",
        "url = 'http://r.applovin.com/maxReport?api_key='+report_key+'&start='+prev_two_days+'&end='+today+\\\n",
        "      '&columns=day,application,network,impressions,estimated_revenue,ecpm,package_name,platform,network_placement,max_placement,'+\\\n",
        "      'max_ad_unit,max_ad_unit_id,max_ad_unit_test,device_type,ad_format,country'+\\\n",
        "      '&format=json'\n",
        "\n",
        "\n",
        "## following columns are not included in the results, which could be \n",
        "## extracted but they are not necessary.\n",
        "## columns omitted: hour,requests,attempts,responses,fill_rate\n",
        "resp = requests.get(url)\n",
        "report_data = json.loads(resp.text)"
      ],
      "execution_count": null,
      "outputs": []
    },
    {
      "cell_type": "code",
      "metadata": {
        "id": "bnEPoM-4__qO"
      },
      "source": [
        "## this code first query the table and selects only\n",
        "## unique rows. Then write the results back to the table\n",
        "## this way we removed duplicates in the data easily\n",
        "#job_config = bigquery.QueryJobConfig(destination='app-swim-bi.dashboard_page9.applovinMAX_revenue_report', write_disposition='write_truncate')\n",
        "\n",
        "de_duplication = \"Delete `app-swim-bi.dashboard_page9.applovinMAX_revenue_report`\\\n",
        "                    Where day >= '\"+str(prev_two_days)+ \"'  AND day <= '\" +str(today)+\"'\"\n",
        "q = bq_client.query(de_duplication)\n",
        "q.result();"
      ],
      "execution_count": null,
      "outputs": []
    },
    {
      "cell_type": "code",
      "metadata": {
        "id": "0UWYAGOhX-3C"
      },
      "source": [
        "## this code appends JSON output data to BigQuery table applovinMAX_revenue_report\n",
        "## inside dashboard_page9 dataset \n",
        "\n",
        "job = bq_client.load_table_from_json(report_data['results'],'app-swim-bi.dashboard_page9.applovinMAX_revenue_report')\n",
        "job.result(); ## WAIT until job is done."
      ],
      "execution_count": null,
      "outputs": []
    },
    {
      "cell_type": "markdown",
      "metadata": {
        "id": "aeOYwl6DpUg2"
      },
      "source": [
        "## Ironsource Data Pull"
      ]
    },
    {
      "cell_type": "code",
      "metadata": {
        "id": "MickYk5JPcP2"
      },
      "source": [
        "##### IRON SOURCE MEDIATION PLATFORM REPORTING DATA TO BIGQUERY TABLE ##########\n",
        "## url provided by Ironsource reporting API\n",
        "username = '----'\n",
        "secret_key = '---'\n",
        "#AUID = username+':'+secret_key\n",
        "response = requests.get('https://platform.ironsrc.com/partners/publisher/auth', headers={'secretkey':'---','refreshToken':'---'})\n",
        "bearer_key = response.text.replace('\"','')\n",
        "#irn_key = base64.b64encode(AUID.encode()).decode()\n",
        "\n",
        "## see https://developers.ironsrc.com/ironsource-mobile/air/metrics-definition/ for supported metrics\n",
        "## see https://developers.ironsrc.com/ironsource-mobile/air/supported-breakdown-metric/ for supported breakdowns available"
      ],
      "execution_count": null,
      "outputs": []
    },
    {
      "cell_type": "code",
      "metadata": {
        "id": "QJCtX4uam2XX"
      },
      "source": [
        "headers={\"Authorization\": \"Bearer %s\" % bearer_key}\n",
        "today = datetime.date.today()\n",
        "\n",
        "startDate = today - datetime.timedelta(days=3)\n",
        "startDate = datetime.date.strftime(startDate, format='%Y-%m-%d')\n",
        "\n",
        "endDate = datetime.date.strftime(today, format='%Y-%m-%d')\n",
        "\n",
        "irn_url = 'https://platform.ironsrc.com/partners/publisher/mediation/applications/v6/stats?startDate='+startDate+'&endDate='+endDate+\\\n",
        "          '&columns=revenue,eCPM,impressions,clicks,clickThroughRate'+\\\n",
        "          '&breakdown=country,adSource,platform,app'\n",
        "\n",
        "resp = requests.get(irn_url, headers=headers)\n",
        "irn_data = json.loads(resp.text)"
      ],
      "execution_count": null,
      "outputs": []
    },
    {
      "cell_type": "code",
      "metadata": {
        "id": "R5ur694yRded"
      },
      "source": [
        "master = []\n",
        "for each in irn_data:\n",
        "  adUnit = each['adUnits']\n",
        "  adNetwork = each['providerName']\n",
        "  platform = each['platform']\n",
        "  appKey = each['appKey']\n",
        "  appName = each['appName']\n",
        "  bundleId = each['bundleId']\n",
        "  date = each['date']\n",
        "  data = each['data']\n",
        "  for dataobj in data:\n",
        "    if 'videoCompletions' in dataobj:\n",
        "      del dataobj['videoCompletions']\n",
        "    if 'revenuePerCompletion' in dataobj:\n",
        "      del dataobj['revenuePerCompletion']\n",
        "    if 'completionRate' in dataobj:\n",
        "      del dataobj['completionRate']\n",
        "    if 'offerCompletions' in dataobj:\n",
        "      del dataobj['offerCompletions']\n",
        "    \n",
        "\n",
        "    dataobj['addUnits'] = adUnit\n",
        "    dataobj['adNetwork'] = adNetwork\n",
        "    dataobj['platform'] = platform\n",
        "    dataobj['appName'] = appName\n",
        "    dataobj['bundleId'] = bundleId\n",
        "    dataobj['appKey'] = appKey\n",
        "    dataobj['date'] = date\n",
        "    master.append(dataobj)"
      ],
      "execution_count": null,
      "outputs": []
    },
    {
      "cell_type": "code",
      "metadata": {
        "id": "MNfc24ZzdGl2"
      },
      "source": [
        "## this code first query the table and selects only\n",
        "## unique rows. Then write the results back to the table\n",
        "## this way we removed duplicates in the data easily\n",
        "#job_config = bigquery.QueryJobConfig(destination='app-swim-bi.dashboard_page9.ironsource_revenue_report', write_disposition='write_truncate')\n",
        "de_duplication = \"Delete `app-swim-bi.dashboard_page9.ironsource_revenue_report`\\\n",
        "                    Where date >= '\"+str(startDate)+ \"'  AND date <= '\" +str(endDate)+\"'\"\n",
        "q = bq_client.query(de_duplication)\n",
        "q.result();"
      ],
      "execution_count": null,
      "outputs": []
    },
    {
      "cell_type": "code",
      "metadata": {
        "id": "cLMmYXF1bjN0"
      },
      "source": [
        "## this code appends JSON output data to BigQuery table applovinMAX_revenue_report\n",
        "## inside dashboard_page9 dataset \n",
        "\n",
        "job = bq_client.load_table_from_json(master,'app-swim-bi.dashboard_page9.ironsource_revenue_report')\n",
        "job.result(); ## WAIT until job is done."
      ],
      "execution_count": null,
      "outputs": []
    },
    {
      "cell_type": "markdown",
      "metadata": {
        "id": "DzjKNXfXU1AZ"
      },
      "source": [
        "## Appfigures Data Pull"
      ]
    },
    {
      "cell_type": "code",
      "metadata": {
        "id": "wreyTfEkNJ6z"
      },
      "source": [
        "client_key = '----'\n",
        "encodedcreds = base64.b64encode(b'----')"
      ],
      "execution_count": null,
      "outputs": []
    },
    {
      "cell_type": "code",
      "metadata": {
        "id": "FxCtJcYBP69l"
      },
      "source": [
        "headers={\"Authorization\": \"Basic %s\" % encodedcreds.decode()}\n",
        "today = str(datetime.date.today())\n",
        "startDate = today - datetime.timedelta(days=3)\n",
        "startDate = datetime.date.strftime(startDate, format='%Y-%m-%d')\n",
        "\n",
        "endDate = datetime.date.strftime(today, format='%Y-%m-%d')\n",
        "url = 'https://api.appfigures.com/v2/reports/revenue?start_date='+startDate+'&end_date='+endDate+'&group_by=date,product,store,country&format=JSON&client_key='+client_key\n",
        " \n",
        "resp = requests.get(url, headers=headers)\n",
        "appfig_data = json.loads(resp.text)"
      ],
      "execution_count": null,
      "outputs": []
    },
    {
      "cell_type": "code",
      "metadata": {
        "id": "LUkSrBT7TKHf"
      },
      "source": [
        "headers={\"Authorization\": \"Basic %s\" % encodedcreds.decode()}\n",
        "url = 'https://api.appfigures.com/v2/products/mine?&client_key='+client_key\n",
        "resp = requests.get(url, headers=headers)\n",
        "prod_info = json.loads(resp.text)"
      ],
      "execution_count": null,
      "outputs": []
    },
    {
      "cell_type": "code",
      "metadata": {
        "id": "9KlGQV6AN1Fo"
      },
      "source": [
        "master = []\n",
        "for edate in appfig_data.keys():\n",
        "  for eprod in appfig_data[edate].keys():\n",
        "    for estore in appfig_data[edate][eprod].keys():\n",
        "      for ecountry in appfig_data[edate][eprod][estore].keys():\n",
        "        dataobj = copy.deepcopy(appfig_data[edate][eprod][estore][ecountry])\n",
        "        dataobj['product_name'] = prod_info[eprod]['name']\n",
        "        master.append(dataobj)"
      ],
      "execution_count": null,
      "outputs": []
    },
    {
      "cell_type": "code",
      "metadata": {
        "id": "WYR5LzO2R36V"
      },
      "source": [
        "de_duplication = \"Delete `app-swim-bi.dashboard_page9.appfigures_data`\\\n",
        "                    Where date >= '\"+str(startDate)+ \"'  AND date <= '\" +str(endDate)+\"'\"\n",
        "q = bq_client.query(de_duplication)\n",
        "q.result();\n",
        "\n",
        "job = bq_client.load_table_from_json(master,'app-swim-bi.dashboard_page9.appfigures_data')\n",
        "job.result(); ## WAIT until job is done."
      ],
      "execution_count": null,
      "outputs": []
    },
    {
      "cell_type": "code",
      "metadata": {
        "id": "vt418Oj-YmDK"
      },
      "source": [
        "headers={\"Authorization\": \"Basic %s\" % encodedcreds.decode()}\n",
        "url = 'https://api.appfigures.com/v2/reports/subscriptions?group_by=date,product,store,country&start_date='+startDate+'&end_date='+endDate+'&format=JSON&client_key='+client_key\n",
        "resp = requests.get(url, headers=headers)\n",
        "subs_data = json.loads(resp.text)"
      ],
      "execution_count": null,
      "outputs": []
    },
    {
      "cell_type": "code",
      "metadata": {
        "id": "QIb4V4BCd4dR"
      },
      "source": [
        "master = []\n",
        "for edate in subs_data.keys():\n",
        "  for eprod in subs_data[edate].keys():\n",
        "    for estore in subs_data[edate][eprod].keys():\n",
        "      for ecountry in subs_data[edate][eprod][estore].keys():\n",
        "        dataobj = copy.deepcopy(subs_data[edate][eprod][estore][ecountry])\n",
        "        dataobj['product_name'] = prod_info[eprod]['name']\n",
        "        master.append(dataobj)"
      ],
      "execution_count": null,
      "outputs": []
    },
    {
      "cell_type": "code",
      "metadata": {
        "id": "hPxDpqucesxn"
      },
      "source": [
        "de_duplication = \"Delete `app-swim-bi.dashboard_page9.appfigures_subscription_data`\\\n",
        "                    Where date >= '\"+str(startDate)+ \"'  AND date <= '\" +str(endDate)+\"'\"\n",
        "q = bq_client.query(de_duplication)\n",
        "q.result();\n",
        "\n",
        "job = bq_client.load_table_from_json(master,'app-swim-bi.dashboard_page9.appfigures_subscription_data')\n",
        "job.result(); ## WAIT until job is done."
      ],
      "execution_count": null,
      "outputs": []
    },
    {
      "cell_type": "markdown",
      "metadata": {
        "id": "mJ2uJhgancUr"
      },
      "source": [
        "## Unity Ads Data Pull"
      ]
    },
    {
      "cell_type": "code",
      "metadata": {
        "id": "xxXmwgTpDWCH",
        "colab": {
          "base_uri": "https://localhost:8080/",
          "height": 34
        },
        "outputId": "94f861e4-1ca6-4b2b-b734-d00af2d51933"
      },
      "source": [
        "datetime.date.today()"
      ],
      "execution_count": null,
      "outputs": [
        {
          "output_type": "execute_result",
          "data": {
            "text/plain": [
              "datetime.date(2020, 8, 16)"
            ]
          },
          "metadata": {
            "tags": []
          },
          "execution_count": 86
        }
      ]
    },
    {
      "cell_type": "code",
      "metadata": {
        "id": "diCRKbOAqhUY"
      },
      "source": [
        "organization_id = \"---\"\n",
        "access_token = \"---\"\n",
        "url = 'https://stats.unityads.unity3d.com/organizations/---/reports/acquisitions?apikey='+access_token+\\\n",
        "'&start='+'2020-06-01'+'T00:00:00.000Z&end='+'2020-06-16'+'T00:00:00.000Z&scale=day&splitBy=adType,campaign,creativePack,target,store,country,platform'\n",
        "  #url = 'https://stats.unityads.unity3d.com/organizations/'+organization_id+'/reports/acquisitions?\\\n",
        "#start='+str(startDate)+'T00:00:00.000Z&end='+str(endDate)+'T23:59:59.000Z&scale=day&\\\n",
        "#splitBy=adType,campaign,creativePack,target,sourceAppId,store,country,platform,osVersion,reachExtension&apikey='+access_token\n",
        "resp = requests.get(url)\n",
        "master = []\n",
        "if 'error' not in resp.text and resp.text != '':\n",
        "  csv_content = csv.reader(resp.content.decode('utf-8').splitlines(), delimiter=',')\n",
        "  for each in csv_content:\n",
        "    #list(map(lambda x,y: master_dict.update({x:y}), keys, vals))\n",
        "    if (len(master)>1) and master[0]==each:\n",
        "      pass\n",
        "    else:\n",
        "      master.append(each)\n",
        "else:\n",
        "  print(\"exception at Date: \", resp.text, url)  \n",
        "\n",
        "#print(startDate, endDate)\n",
        "temp = copy.deepcopy(master[0])\n",
        "header_row = []\n",
        "for each in temp:\n",
        "  header_row.append(each.replace(' ',''))\n",
        "header_row[0] = 'timestamp'\n",
        "master = master[1:]\n",
        "db = pd.DataFrame(master, columns=header_row)\n",
        "db.insert(loc=0, column='date', value=db['timestamp'].apply(lambda x: pd.Timestamp(x).date() ))\n",
        "db.drop('timestamp', axis=1, inplace=True)"
      ],
      "execution_count": null,
      "outputs": []
    },
    {
      "cell_type": "code",
      "metadata": {
        "id": "1kSc5ySt1Dpp"
      },
      "source": [
        "db['starts'] = db['starts'].astype(int)\n",
        "db['views'] = db['views'].astype(int)\n",
        "db['clicks'] = db['clicks'].astype(int)\n",
        "db['installs'] = db['installs'].astype(int)\n",
        "db['spend'] = db['spend'].astype(float)\n",
        "db['cvr'] = db['cvr'].astype(float)\n",
        "db['ctr'] = db['ctr'].replace('',None).astype(float)\n",
        "db['ecpm'] = db['ecpm'].astype(float)\n",
        "db['cpi'] = db['cpi'].replace('',0.0).astype(float)\n",
        "\n",
        "db.head()"
      ],
      "execution_count": null,
      "outputs": []
    },
    {
      "cell_type": "code",
      "metadata": {
        "id": "UmSAApyRFhNP"
      },
      "source": [
        "de_duplication = \"Delete `app-swim-bi.unity_dataset.unity_data`\\\n",
        "                    Where date >= '\"+str('2020-06-01')+ \"'  AND date <= '\" +str('2020-06-30')+\"'\"\n",
        "q = bq_client.query(de_duplication)\n",
        "q.result();\n",
        "\n",
        "job = bq_client.load_table_from_dataframe(db, destination='app-swim-bi.unity_dataset.unity_data')\n",
        "job.result();"
      ],
      "execution_count": null,
      "outputs": []
    },
    {
      "cell_type": "code",
      "metadata": {
        "id": "VFPLQbr-6B94",
        "colab": {
          "base_uri": "https://localhost:8080/",
          "height": 969
        },
        "outputId": "8251e757-6773-4fcf-9b3e-1329a99f5faa"
      },
      "source": [
        "\n",
        "db.loc[(db['date']>=pd.to_datetime('2020-08-10',format='%Y-%m-%d'))].groupby(['targetname','platform','campaignname','creativepackname']).agg({'starts':'sum', 'clicks':'sum','installs':'sum','spend':'sum'})"
      ],
      "execution_count": null,
      "outputs": [
        {
          "output_type": "execute_result",
          "data": {
            "text/html": [
              "<div>\n",
              "<style scoped>\n",
              "    .dataframe tbody tr th:only-of-type {\n",
              "        vertical-align: middle;\n",
              "    }\n",
              "\n",
              "    .dataframe tbody tr th {\n",
              "        vertical-align: top;\n",
              "    }\n",
              "\n",
              "    .dataframe thead th {\n",
              "        text-align: right;\n",
              "    }\n",
              "</style>\n",
              "<table border=\"1\" class=\"dataframe\">\n",
              "  <thead>\n",
              "    <tr style=\"text-align: right;\">\n",
              "      <th></th>\n",
              "      <th></th>\n",
              "      <th></th>\n",
              "      <th></th>\n",
              "      <th>starts</th>\n",
              "      <th>clicks</th>\n",
              "      <th>installs</th>\n",
              "      <th>spend</th>\n",
              "    </tr>\n",
              "    <tr>\n",
              "      <th>targetname</th>\n",
              "      <th>platform</th>\n",
              "      <th>campaignname</th>\n",
              "      <th>creativepackname</th>\n",
              "      <th></th>\n",
              "      <th></th>\n",
              "      <th></th>\n",
              "      <th></th>\n",
              "    </tr>\n",
              "  </thead>\n",
              "  <tbody>\n",
              "    <tr>\n",
              "      <th rowspan=\"3\" valign=\"top\">Hoop Kings</th>\n",
              "      <th rowspan=\"3\" valign=\"top\">ios</th>\n",
              "      <th rowspan=\"3\" valign=\"top\">Hoop King Initial Test</th>\n",
              "      <th>Creative1</th>\n",
              "      <td>584</td>\n",
              "      <td>14</td>\n",
              "      <td>2</td>\n",
              "      <td>1.00</td>\n",
              "    </tr>\n",
              "    <tr>\n",
              "      <th>Creative2</th>\n",
              "      <td>584</td>\n",
              "      <td>21</td>\n",
              "      <td>6</td>\n",
              "      <td>3.00</td>\n",
              "    </tr>\n",
              "    <tr>\n",
              "      <th>Creative3</th>\n",
              "      <td>639</td>\n",
              "      <td>27</td>\n",
              "      <td>4</td>\n",
              "      <td>2.00</td>\n",
              "    </tr>\n",
              "    <tr>\n",
              "      <th rowspan=\"23\" valign=\"top\">Subway Idle</th>\n",
              "      <th rowspan=\"10\" valign=\"top\">android</th>\n",
              "      <th rowspan=\"5\" valign=\"top\">Subway AD CPI Campaign US Initial</th>\n",
              "      <th>200usd Playable</th>\n",
              "      <td>144</td>\n",
              "      <td>22</td>\n",
              "      <td>0</td>\n",
              "      <td>0.00</td>\n",
              "    </tr>\n",
              "    <tr>\n",
              "      <th>Classic Playable</th>\n",
              "      <td>8381</td>\n",
              "      <td>1502</td>\n",
              "      <td>148</td>\n",
              "      <td>40.73</td>\n",
              "    </tr>\n",
              "    <tr>\n",
              "      <th>Earnx2 Playable</th>\n",
              "      <td>12759</td>\n",
              "      <td>2898</td>\n",
              "      <td>205</td>\n",
              "      <td>57.26</td>\n",
              "    </tr>\n",
              "    <tr>\n",
              "      <th>Sendtoapp Playable</th>\n",
              "      <td>15013</td>\n",
              "      <td>6018</td>\n",
              "      <td>361</td>\n",
              "      <td>100.81</td>\n",
              "    </tr>\n",
              "    <tr>\n",
              "      <th>Subways Creative 0 30 Sec</th>\n",
              "      <td>7784</td>\n",
              "      <td>629</td>\n",
              "      <td>126</td>\n",
              "      <td>35.70</td>\n",
              "    </tr>\n",
              "    <tr>\n",
              "      <th rowspan=\"5\" valign=\"top\">Subway AD CPI Campaign t3</th>\n",
              "      <th>200usd Playable</th>\n",
              "      <td>14953</td>\n",
              "      <td>2400</td>\n",
              "      <td>323</td>\n",
              "      <td>12.37</td>\n",
              "    </tr>\n",
              "    <tr>\n",
              "      <th>Classic Playable</th>\n",
              "      <td>111703</td>\n",
              "      <td>18491</td>\n",
              "      <td>2690</td>\n",
              "      <td>97.13</td>\n",
              "    </tr>\n",
              "    <tr>\n",
              "      <th>Earnx2 Playable</th>\n",
              "      <td>203437</td>\n",
              "      <td>46745</td>\n",
              "      <td>5103</td>\n",
              "      <td>165.46</td>\n",
              "    </tr>\n",
              "    <tr>\n",
              "      <th>Sendtoapp Playable</th>\n",
              "      <td>211650</td>\n",
              "      <td>79022</td>\n",
              "      <td>7710</td>\n",
              "      <td>269.81</td>\n",
              "    </tr>\n",
              "    <tr>\n",
              "      <th>Subways Creative 0 30 Sec</th>\n",
              "      <td>100553</td>\n",
              "      <td>9769</td>\n",
              "      <td>2469</td>\n",
              "      <td>93.23</td>\n",
              "    </tr>\n",
              "    <tr>\n",
              "      <th rowspan=\"13\" valign=\"top\">ios</th>\n",
              "      <th rowspan=\"8\" valign=\"top\">Subway iOS CPI Campaign US Initial</th>\n",
              "      <th>200usd Playable</th>\n",
              "      <td>3066</td>\n",
              "      <td>577</td>\n",
              "      <td>51</td>\n",
              "      <td>22.34</td>\n",
              "    </tr>\n",
              "    <tr>\n",
              "      <th>Classic Playable</th>\n",
              "      <td>1251</td>\n",
              "      <td>209</td>\n",
              "      <td>13</td>\n",
              "      <td>5.08</td>\n",
              "    </tr>\n",
              "    <tr>\n",
              "      <th>Earnx2 Playable</th>\n",
              "      <td>30952</td>\n",
              "      <td>8769</td>\n",
              "      <td>400</td>\n",
              "      <td>174.81</td>\n",
              "    </tr>\n",
              "    <tr>\n",
              "      <th>IS1</th>\n",
              "      <td>118</td>\n",
              "      <td>6</td>\n",
              "      <td>0</td>\n",
              "      <td>0.00</td>\n",
              "    </tr>\n",
              "    <tr>\n",
              "      <th>IS3</th>\n",
              "      <td>36</td>\n",
              "      <td>3</td>\n",
              "      <td>1</td>\n",
              "      <td>0.53</td>\n",
              "    </tr>\n",
              "    <tr>\n",
              "      <th>IS4</th>\n",
              "      <td>34</td>\n",
              "      <td>2</td>\n",
              "      <td>1</td>\n",
              "      <td>0.53</td>\n",
              "    </tr>\n",
              "    <tr>\n",
              "      <th>Sendtoapp Playable</th>\n",
              "      <td>19250</td>\n",
              "      <td>7498</td>\n",
              "      <td>345</td>\n",
              "      <td>151.37</td>\n",
              "    </tr>\n",
              "    <tr>\n",
              "      <th>Subways Creative 0 30 Sec</th>\n",
              "      <td>3681</td>\n",
              "      <td>224</td>\n",
              "      <td>58</td>\n",
              "      <td>24.99</td>\n",
              "    </tr>\n",
              "    <tr>\n",
              "      <th rowspan=\"5\" valign=\"top\">Subway iOS CPI Campaign t3</th>\n",
              "      <th>200usd Playable</th>\n",
              "      <td>1669</td>\n",
              "      <td>349</td>\n",
              "      <td>48</td>\n",
              "      <td>8.92</td>\n",
              "    </tr>\n",
              "    <tr>\n",
              "      <th>Classic Playable</th>\n",
              "      <td>947</td>\n",
              "      <td>172</td>\n",
              "      <td>30</td>\n",
              "      <td>4.19</td>\n",
              "    </tr>\n",
              "    <tr>\n",
              "      <th>Earnx2 Playable</th>\n",
              "      <td>4018</td>\n",
              "      <td>1118</td>\n",
              "      <td>117</td>\n",
              "      <td>20.36</td>\n",
              "    </tr>\n",
              "    <tr>\n",
              "      <th>Sendtoapp Playable</th>\n",
              "      <td>4983</td>\n",
              "      <td>1823</td>\n",
              "      <td>135</td>\n",
              "      <td>22.87</td>\n",
              "    </tr>\n",
              "    <tr>\n",
              "      <th>Subways Creative 0 30 Sec</th>\n",
              "      <td>5810</td>\n",
              "      <td>615</td>\n",
              "      <td>279</td>\n",
              "      <td>45.63</td>\n",
              "    </tr>\n",
              "    <tr>\n",
              "      <th rowspan=\"3\" valign=\"top\">Water Sort 3D</th>\n",
              "      <th rowspan=\"3\" valign=\"top\">ios</th>\n",
              "      <th rowspan=\"3\" valign=\"top\">Water Sort US Initial iOS</th>\n",
              "      <th>Creative1</th>\n",
              "      <td>2881</td>\n",
              "      <td>202</td>\n",
              "      <td>67</td>\n",
              "      <td>50.25</td>\n",
              "    </tr>\n",
              "    <tr>\n",
              "      <th>Creative2</th>\n",
              "      <td>1886</td>\n",
              "      <td>157</td>\n",
              "      <td>65</td>\n",
              "      <td>48.75</td>\n",
              "    </tr>\n",
              "    <tr>\n",
              "      <th>Creative3</th>\n",
              "      <td>2773</td>\n",
              "      <td>165</td>\n",
              "      <td>52</td>\n",
              "      <td>39.00</td>\n",
              "    </tr>\n",
              "  </tbody>\n",
              "</table>\n",
              "</div>"
            ],
            "text/plain": [
              "                                                                                     starts  ...   spend\n",
              "targetname    platform campaignname                       creativepackname                   ...        \n",
              "Hoop Kings    ios      Hoop King Initial Test             Creative1                     584  ...    1.00\n",
              "                                                          Creative2                     584  ...    3.00\n",
              "                                                          Creative3                     639  ...    2.00\n",
              "Subway Idle   android  Subway AD CPI Campaign US Initial  200usd Playable               144  ...    0.00\n",
              "                                                          Classic Playable             8381  ...   40.73\n",
              "                                                          Earnx2 Playable             12759  ...   57.26\n",
              "                                                          Sendtoapp Playable          15013  ...  100.81\n",
              "                                                          Subways Creative 0 30 Sec    7784  ...   35.70\n",
              "                       Subway AD CPI Campaign t3          200usd Playable             14953  ...   12.37\n",
              "                                                          Classic Playable           111703  ...   97.13\n",
              "                                                          Earnx2 Playable            203437  ...  165.46\n",
              "                                                          Sendtoapp Playable         211650  ...  269.81\n",
              "                                                          Subways Creative 0 30 Sec  100553  ...   93.23\n",
              "              ios      Subway iOS CPI Campaign US Initial 200usd Playable              3066  ...   22.34\n",
              "                                                          Classic Playable             1251  ...    5.08\n",
              "                                                          Earnx2 Playable             30952  ...  174.81\n",
              "                                                          IS1                           118  ...    0.00\n",
              "                                                          IS3                            36  ...    0.53\n",
              "                                                          IS4                            34  ...    0.53\n",
              "                                                          Sendtoapp Playable          19250  ...  151.37\n",
              "                                                          Subways Creative 0 30 Sec    3681  ...   24.99\n",
              "                       Subway iOS CPI Campaign t3         200usd Playable              1669  ...    8.92\n",
              "                                                          Classic Playable              947  ...    4.19\n",
              "                                                          Earnx2 Playable              4018  ...   20.36\n",
              "                                                          Sendtoapp Playable           4983  ...   22.87\n",
              "                                                          Subways Creative 0 30 Sec    5810  ...   45.63\n",
              "Water Sort 3D ios      Water Sort US Initial iOS          Creative1                    2881  ...   50.25\n",
              "                                                          Creative2                    1886  ...   48.75\n",
              "                                                          Creative3                    2773  ...   39.00\n",
              "\n",
              "[29 rows x 4 columns]"
            ]
          },
          "metadata": {
            "tags": []
          },
          "execution_count": 94
        }
      ]
    },
    {
      "cell_type": "code",
      "metadata": {
        "id": "_w08pPvB0RYs"
      },
      "source": [
        "\n",
        "startDate = datetime.date(2020,8,1)\n",
        "while True:\n",
        "  if startDate > datetime.date(2020,8,11):\n",
        "    break\n",
        "  master = []\n",
        "  endDate = startDate+datetime.timedelta(days=1)\n",
        "  url = 'ttps://stats.unityads.unity3d.com/organizations/---/reports/acquisitions?apikey=---6&start=2020-08-13T00:00:00.000Z&end=2020-08-16T00:00:00.000Z&scale=day&splitBy=campaign,creativePack'\n",
        "  #url = 'https://stats.unityads.unity3d.com/organizations/'+organization_id+'/reports/acquisitions?\\\n",
        "#start='+str(startDate)+'T00:00:00.000Z&end='+str(endDate)+'T23:59:59.000Z&scale=day&\\\n",
        "#splitBy=adType,campaign,creativePack,target,sourceAppId,store,country,platform,osVersion,reachExtension&apikey='+access_token\n",
        "  resp = requests.get(url)\n",
        "  if 'error' not in resp.text and resp.text != '':\n",
        "    csv_content = csv.reader(resp.content.decode('utf-8').splitlines(), delimiter=',')\n",
        "    for each in csv_content:\n",
        "      if flag:\n",
        "        list(map(lambda x,y: master_dict.update({x:y}), keys, vals))\n",
        "  else:\n",
        "    print(\"exception at Date: \", startDate, resp.text, url)  \n",
        "  \n",
        "  print(startDate, endDate)\n",
        "  temp = copy.deepcopy(master[0])\n",
        "  header_row = []\n",
        "  for each in temp:\n",
        "    header_row.append(each.replace(' ',''))\n",
        "  header_row[0] = 'timestamp'\n",
        "  master = master[1:]\n",
        "  db = pd.DataFrame(master, columns=header_row)\n",
        "  # db['cvr'] = db['cvr'].replace('Infinity','0.0').replace('','0.0').astype(float)\n",
        "  # db['ctr'] = db['ctr'].replace('Infinity','0.0').replace('','0.0').astype(float)\n",
        "  # db['cpi'] = db['cpi'].replace('Infinity','0.0').replace('','0.0').astype(float)\n",
        "  # db['ecpm'] = db['ecpm'].replace('Infinity','0.0').replace('','0.0').astype(float)\n",
        "  # db['installs'] = db['installs'].replace('Infinity','0.0').replace('','0.0').astype(float)\n",
        "  # db['starts'] = db['starts'].replace('Infinity','0.0').replace('','0.0').astype(float)\n",
        "  # db['views'] = db['views'].replace('Infinity','0.0').replace('','0.0').astype(float)\n",
        "  # db['clicks'] = db['clicks'].replace('Infinity','0.0').replace('','0.0').astype(float)\n",
        "  # db['spend'] = db['spend'].replace('Infinity','0.0').replace('','0.0').astype(float)\n",
        "  db.insert(loc=0, column='date', value=db['timestamp'].apply(lambda x: pd.Timestamp(x).date() ))\n",
        "  db.drop('timestamp', axis=1, inplace=True)\n",
        "  \n",
        "  #de_duplication = \"Delete `app-swim-bi.unity_dataset.unity_data`\\\n",
        "  #                  Where date >= '\"+str(startDate)+ \"'  AND date <= '\" +str(endDate)+\"'\"\n",
        "  #q = bq_client.query(de_duplication)\n",
        "  #q.result();\n",
        "\n",
        "  job = bq_client.load_table_from_dataframe(db, 'app-swim-bi.unity_dataset.unity_raw_data')\n",
        "  job.result();\n",
        "  print(\"Data Inserted to bigquery table!\")\n",
        "  startDate = startDate+datetime.timedelta(days=2)\n",
        "  time.sleep(2)"
      ],
      "execution_count": null,
      "outputs": []
    },
    {
      "cell_type": "code",
      "metadata": {
        "id": "JraGj6WuJGmN",
        "colab": {
          "base_uri": "https://localhost:8080/",
          "height": 34
        },
        "outputId": "3df7f6df-d215-47bf-a1bf-00e4ce93c96b"
      },
      "source": [
        "keys = ['timestamp', 'campaign id', 'platform', 'store']\n",
        "vals = ['2020-08-12T00:00:01.000Z', '54546786432', 'android', 'google']\n",
        "\n",
        "master_dict = {}\n",
        "#[master_dict.update(each) for each in list(map(lambda x,y: {x:y}, keys, vals))]\n",
        ")"
      ],
      "execution_count": null,
      "outputs": [
        {
          "output_type": "execute_result",
          "data": {
            "text/plain": [
              "[None, None, None, None]"
            ]
          },
          "metadata": {
            "tags": []
          },
          "execution_count": 53
        }
      ]
    },
    {
      "cell_type": "code",
      "metadata": {
        "id": "ByDzRoovLrU1",
        "colab": {
          "base_uri": "https://localhost:8080/",
          "height": 86
        },
        "outputId": "aa20e4f2-1f9a-4a69-d9dd-f70716e3f0ca"
      },
      "source": [
        "master_dict"
      ],
      "execution_count": null,
      "outputs": [
        {
          "output_type": "execute_result",
          "data": {
            "text/plain": [
              "{'campaign id': '54546786432',\n",
              " 'platform': 'android',\n",
              " 'store': 'google',\n",
              " 'timestamp': '2020-08-12T00:00:01.000Z'}"
            ]
          },
          "metadata": {
            "tags": []
          },
          "execution_count": 54
        }
      ]
    },
    {
      "cell_type": "code",
      "metadata": {
        "id": "gNU7TvLXgFF7",
        "colab": {
          "base_uri": "https://localhost:8080/",
          "height": 183
        },
        "outputId": "6f11d7bf-fe83-4633-dda0-08dd18ce63ff"
      },
      "source": [
        "with open('csv_data_dump.txt','w') as f:\n",
        "  f.write(str(master))"
      ],
      "execution_count": null,
      "outputs": [
        {
          "output_type": "error",
          "ename": "NameError",
          "evalue": "ignored",
          "traceback": [
            "\u001b[0;31m---------------------------------------------------------------------------\u001b[0m",
            "\u001b[0;31mNameError\u001b[0m                                 Traceback (most recent call last)",
            "\u001b[0;32m<ipython-input-51-d1d2f6e88cb5>\u001b[0m in \u001b[0;36m<module>\u001b[0;34m()\u001b[0m\n\u001b[1;32m      1\u001b[0m \u001b[0;32mwith\u001b[0m \u001b[0mopen\u001b[0m\u001b[0;34m(\u001b[0m\u001b[0;34m'csv_data_dump.txt'\u001b[0m\u001b[0;34m,\u001b[0m\u001b[0;34m'w'\u001b[0m\u001b[0;34m)\u001b[0m \u001b[0;32mas\u001b[0m \u001b[0mf\u001b[0m\u001b[0;34m:\u001b[0m\u001b[0;34m\u001b[0m\u001b[0;34m\u001b[0m\u001b[0m\n\u001b[0;32m----> 2\u001b[0;31m   \u001b[0mf\u001b[0m\u001b[0;34m.\u001b[0m\u001b[0mwrite\u001b[0m\u001b[0;34m(\u001b[0m\u001b[0mstr\u001b[0m\u001b[0;34m(\u001b[0m\u001b[0mmaster\u001b[0m\u001b[0;34m)\u001b[0m\u001b[0;34m)\u001b[0m\u001b[0;34m\u001b[0m\u001b[0;34m\u001b[0m\u001b[0m\n\u001b[0m",
            "\u001b[0;31mNameError\u001b[0m: name 'master' is not defined"
          ]
        }
      ]
    },
    {
      "cell_type": "code",
      "metadata": {
        "id": "rVd6R6brg5iO"
      },
      "source": [
        "db = pd.DataFrame(master, columns=header_row)\n",
        "db['cvr'] = db['cvr'].replace('Infinity','0.0').replace('','0.0').astype(float)\n",
        "db['ctr'] = db['ctr'].replace('Infinity','0.0').replace('','0.0').astype(float)\n",
        "db['cpi'] = db['cpi'].replace('Infinity','0.0').replace('','0.0').astype(float)\n",
        "db['ecpm'] = db['ecpm'].replace('Infinity','0.0').replace('','0.0').astype(float)\n",
        "db['installs'] = db['installs'].replace('Infinity','0.0').replace('','0.0').astype(float)\n",
        "db['starts'] = db['starts'].replace('Infinity','0.0').replace('','0.0').astype(float)\n",
        "db['views'] = db['views'].replace('Infinity','0.0').replace('','0.0').astype(float)\n",
        "db['clicks'] = db['clicks'].replace('Infinity','0.0').replace('','0.0').astype(float)\n",
        "db['spend'] = db['spend'].replace('Infinity','0.0').replace('','0.0').astype(float)"
      ],
      "execution_count": null,
      "outputs": []
    },
    {
      "cell_type": "code",
      "metadata": {
        "id": "113wo9Wfc5ca"
      },
      "source": [
        "db.insert(loc=0, column='date', value=db['timestamp'].apply(lambda x: pd.Timestamp(x).date() ))\n",
        "db.drop('timestamp', axis=1, inplace=True)"
      ],
      "execution_count": null,
      "outputs": []
    },
    {
      "cell_type": "code",
      "metadata": {
        "id": "PCVqhBNVC8js",
        "colab": {
          "base_uri": "https://localhost:8080/",
          "height": 391
        },
        "outputId": "f26fd9c4-52db-43a0-e50b-ae661961b0d5"
      },
      "source": [
        "db.head()"
      ],
      "execution_count": null,
      "outputs": [
        {
          "output_type": "execute_result",
          "data": {
            "text/html": [
              "<div>\n",
              "<style scoped>\n",
              "    .dataframe tbody tr th:only-of-type {\n",
              "        vertical-align: middle;\n",
              "    }\n",
              "\n",
              "    .dataframe tbody tr th {\n",
              "        vertical-align: top;\n",
              "    }\n",
              "\n",
              "    .dataframe thead th {\n",
              "        text-align: right;\n",
              "    }\n",
              "</style>\n",
              "<table border=\"1\" class=\"dataframe\">\n",
              "  <thead>\n",
              "    <tr style=\"text-align: right;\">\n",
              "      <th></th>\n",
              "      <th>date</th>\n",
              "      <th>targetid</th>\n",
              "      <th>targetstoreid</th>\n",
              "      <th>targetname</th>\n",
              "      <th>creativepackid</th>\n",
              "      <th>creativepackname</th>\n",
              "      <th>adtype</th>\n",
              "      <th>campaignid</th>\n",
              "      <th>campaignname</th>\n",
              "      <th>country</th>\n",
              "      <th>platform</th>\n",
              "      <th>osversion</th>\n",
              "      <th>store</th>\n",
              "      <th>sourceappid</th>\n",
              "      <th>reachextension</th>\n",
              "      <th>starts</th>\n",
              "      <th>views</th>\n",
              "      <th>clicks</th>\n",
              "      <th>installs</th>\n",
              "      <th>spend</th>\n",
              "      <th>cvr</th>\n",
              "      <th>ctr</th>\n",
              "      <th>ecpm</th>\n",
              "      <th>cpi</th>\n",
              "    </tr>\n",
              "  </thead>\n",
              "  <tbody>\n",
              "    <tr>\n",
              "      <th>0</th>\n",
              "      <td>2020-06-01</td>\n",
              "      <td>500029605</td>\n",
              "      <td>com.newleafstudios.metro</td>\n",
              "      <td>Subway Idle</td>\n",
              "      <td>5ea0c79ea403e7cc21cc32f2</td>\n",
              "      <td>200usd Playable</td>\n",
              "      <td>playable</td>\n",
              "      <td>5e9b178751427fb944444189</td>\n",
              "      <td>Subway AD CPI Campaign US Initial</td>\n",
              "      <td>AU</td>\n",
              "      <td>android</td>\n",
              "      <td>9</td>\n",
              "      <td>google</td>\n",
              "      <td>0102e2A6hosO</td>\n",
              "      <td>Unity</td>\n",
              "      <td>1.0</td>\n",
              "      <td>1.0</td>\n",
              "      <td>1.0</td>\n",
              "      <td>0.0</td>\n",
              "      <td>0.0</td>\n",
              "      <td>0.0</td>\n",
              "      <td>1.0</td>\n",
              "      <td>0.0</td>\n",
              "      <td>0.0</td>\n",
              "    </tr>\n",
              "    <tr>\n",
              "      <th>1</th>\n",
              "      <td>2020-06-01</td>\n",
              "      <td>500029605</td>\n",
              "      <td>com.newleafstudios.metro</td>\n",
              "      <td>Subway Idle</td>\n",
              "      <td>5ea0c79ea403e7cc21cc32f2</td>\n",
              "      <td>200usd Playable</td>\n",
              "      <td>playable</td>\n",
              "      <td>5e9b178751427fb944444189</td>\n",
              "      <td>Subway AD CPI Campaign US Initial</td>\n",
              "      <td>CA</td>\n",
              "      <td>android</td>\n",
              "      <td>9</td>\n",
              "      <td>google</td>\n",
              "      <td>0102e2A6hosO</td>\n",
              "      <td>Unity</td>\n",
              "      <td>1.0</td>\n",
              "      <td>1.0</td>\n",
              "      <td>0.0</td>\n",
              "      <td>0.0</td>\n",
              "      <td>0.0</td>\n",
              "      <td>0.0</td>\n",
              "      <td>0.0</td>\n",
              "      <td>0.0</td>\n",
              "      <td>0.0</td>\n",
              "    </tr>\n",
              "    <tr>\n",
              "      <th>2</th>\n",
              "      <td>2020-06-01</td>\n",
              "      <td>500029605</td>\n",
              "      <td>com.newleafstudios.metro</td>\n",
              "      <td>Subway Idle</td>\n",
              "      <td>5ea0c79ea403e7cc21cc32f2</td>\n",
              "      <td>200usd Playable</td>\n",
              "      <td>playable</td>\n",
              "      <td>5e9b178751427fb944444189</td>\n",
              "      <td>Subway AD CPI Campaign US Initial</td>\n",
              "      <td>CH</td>\n",
              "      <td>android</td>\n",
              "      <td>10</td>\n",
              "      <td>google</td>\n",
              "      <td>0102e2A6hosO</td>\n",
              "      <td>Unity</td>\n",
              "      <td>1.0</td>\n",
              "      <td>1.0</td>\n",
              "      <td>0.0</td>\n",
              "      <td>0.0</td>\n",
              "      <td>0.0</td>\n",
              "      <td>0.0</td>\n",
              "      <td>0.0</td>\n",
              "      <td>0.0</td>\n",
              "      <td>0.0</td>\n",
              "    </tr>\n",
              "    <tr>\n",
              "      <th>3</th>\n",
              "      <td>2020-06-01</td>\n",
              "      <td>500029605</td>\n",
              "      <td>com.newleafstudios.metro</td>\n",
              "      <td>Subway Idle</td>\n",
              "      <td>5ea0c79ea403e7cc21cc32f2</td>\n",
              "      <td>200usd Playable</td>\n",
              "      <td>playable</td>\n",
              "      <td>5e9b178751427fb944444189</td>\n",
              "      <td>Subway AD CPI Campaign US Initial</td>\n",
              "      <td>DE</td>\n",
              "      <td>android</td>\n",
              "      <td>10</td>\n",
              "      <td>google</td>\n",
              "      <td>0102e2A6hosO</td>\n",
              "      <td>Unity</td>\n",
              "      <td>2.0</td>\n",
              "      <td>2.0</td>\n",
              "      <td>0.0</td>\n",
              "      <td>0.0</td>\n",
              "      <td>0.0</td>\n",
              "      <td>0.0</td>\n",
              "      <td>0.0</td>\n",
              "      <td>0.0</td>\n",
              "      <td>0.0</td>\n",
              "    </tr>\n",
              "    <tr>\n",
              "      <th>4</th>\n",
              "      <td>2020-06-01</td>\n",
              "      <td>500029605</td>\n",
              "      <td>com.newleafstudios.metro</td>\n",
              "      <td>Subway Idle</td>\n",
              "      <td>5ea0c79ea403e7cc21cc32f2</td>\n",
              "      <td>200usd Playable</td>\n",
              "      <td>playable</td>\n",
              "      <td>5e9b178751427fb944444189</td>\n",
              "      <td>Subway AD CPI Campaign US Initial</td>\n",
              "      <td>DE</td>\n",
              "      <td>android</td>\n",
              "      <td>5.1</td>\n",
              "      <td>google</td>\n",
              "      <td>0102e2A6hosO</td>\n",
              "      <td>Unity</td>\n",
              "      <td>1.0</td>\n",
              "      <td>1.0</td>\n",
              "      <td>0.0</td>\n",
              "      <td>0.0</td>\n",
              "      <td>0.0</td>\n",
              "      <td>0.0</td>\n",
              "      <td>0.0</td>\n",
              "      <td>0.0</td>\n",
              "      <td>0.0</td>\n",
              "    </tr>\n",
              "  </tbody>\n",
              "</table>\n",
              "</div>"
            ],
            "text/plain": [
              "         date   targetid             targetstoreid  ...  ctr ecpm  cpi\n",
              "0  2020-06-01  500029605  com.newleafstudios.metro  ...  1.0  0.0  0.0\n",
              "1  2020-06-01  500029605  com.newleafstudios.metro  ...  0.0  0.0  0.0\n",
              "2  2020-06-01  500029605  com.newleafstudios.metro  ...  0.0  0.0  0.0\n",
              "3  2020-06-01  500029605  com.newleafstudios.metro  ...  0.0  0.0  0.0\n",
              "4  2020-06-01  500029605  com.newleafstudios.metro  ...  0.0  0.0  0.0\n",
              "\n",
              "[5 rows x 24 columns]"
            ]
          },
          "metadata": {
            "tags": []
          },
          "execution_count": 191
        }
      ]
    },
    {
      "cell_type": "code",
      "metadata": {
        "id": "40gBcOQQ0RIR"
      },
      "source": [
        "de_duplication = \"Delete `app-swim-bi.unity_dataset.unity_data`\\\n",
        "                    Where date >= '\"+str('2020-06-01')+ \"'  AND date <= '\" +str('2020-08-10')+\"'\"\n",
        "q = bq_client.query(de_duplication)\n",
        "q.result();"
      ],
      "execution_count": null,
      "outputs": []
    },
    {
      "cell_type": "code",
      "metadata": {
        "id": "jH1QriOCmbKT"
      },
      "source": [
        "job = bq_client.load_table_from_dataframe(db, 'app-swim-bi.unity_dataset.unity_data')\n",
        "job.result();"
      ],
      "execution_count": null,
      "outputs": []
    },
    {
      "cell_type": "markdown",
      "metadata": {
        "id": "dYeg8SZ-qhFW"
      },
      "source": [
        ""
      ]
    },
    {
      "cell_type": "code",
      "metadata": {
        "id": "1NZ2EUGJKo3D",
        "colab": {
          "base_uri": "https://localhost:8080/",
          "height": 488
        },
        "outputId": "7e13a98a-b188-477c-fb14-87c8b0547c1f"
      },
      "source": [
        "startDate = datetime.date(2020,1,1)\n",
        "master = []\n",
        "while True:\n",
        "  if startDate > datetime.date(2020,7,1):\n",
        "    break\n",
        "  endDate = startDate+datetime.timedelta(days=6)\n",
        "  irn_url = 'https://platform.ironsrc.com/partners/publisher/mediation/applications/v6/stats?startDate='+datetime.date.strftime(startDate,format='%Y-%m-%d')+'&endDate='+datetime.date.strftime(endDate,format='%Y-%m-%d')+\\\n",
        "          '&columns=revenue,eCPM,impressions,clicks,clickThroughRate'+\\\n",
        "          '&breakdown=country,adSource,platform,app'\n",
        "  resp = requests.get(irn_url, headers=headers)\n",
        "  irn_data = []\n",
        "  if resp.text != '':\n",
        "    irn_data = json.loads(resp.text)\n",
        "  else:\n",
        "    print(startDate, '-', endDate)\n",
        "  \n",
        "  if irn_data != []:\n",
        "    for each in irn_data:\n",
        "      adUnit = each['adUnits']\n",
        "      adNetwork = each['providerName']\n",
        "      platform = each['platform']\n",
        "      appKey = each['appKey']\n",
        "      appName = each['appName']\n",
        "      bundleId = each['bundleId']\n",
        "      date = each['date']\n",
        "      data = each['data']\n",
        "      for dataobj in data:\n",
        "        if 'videoCompletions' in dataobj:\n",
        "          del dataobj['videoCompletions']\n",
        "        if 'revenuePerCompletion' in dataobj:\n",
        "          del dataobj['revenuePerCompletion']\n",
        "        if 'completionRate' in dataobj:\n",
        "          del dataobj['completionRate']\n",
        "        if 'offerCompletions' in dataobj:\n",
        "          del dataobj['offerCompletions']\n",
        "        \n",
        "\n",
        "        dataobj['addUnits'] = adUnit\n",
        "        dataobj['adNetwork'] = adNetwork\n",
        "        dataobj['platform'] = platform\n",
        "        dataobj['appName'] = appName\n",
        "        dataobj['bundleId'] = bundleId\n",
        "        dataobj['appKey'] = appKey\n",
        "        dataobj['date'] = date\n",
        "        master.append(dataobj)\n",
        "\n",
        "  print(startDate, '-', endDate)\n",
        "  startDate= endDate + datetime.timedelta(days=1)\n",
        "  time.sleep(20)\n",
        "## waste ##"
      ],
      "execution_count": null,
      "outputs": [
        {
          "output_type": "stream",
          "text": [
            "2020-01-01 - 2020-01-07\n",
            "2020-01-08 - 2020-01-14\n",
            "2020-01-15 - 2020-01-21\n",
            "2020-01-22 - 2020-01-28\n",
            "2020-01-29 - 2020-02-04\n",
            "2020-02-05 - 2020-02-11\n",
            "2020-02-12 - 2020-02-18\n",
            "2020-02-19 - 2020-02-25\n",
            "2020-02-26 - 2020-03-03\n",
            "2020-03-04 - 2020-03-10\n",
            "2020-03-11 - 2020-03-17\n",
            "2020-03-18 - 2020-03-24\n",
            "2020-03-25 - 2020-03-31\n",
            "2020-04-01 - 2020-04-07\n",
            "2020-04-08 - 2020-04-14\n",
            "2020-04-15 - 2020-04-21\n",
            "2020-04-22 - 2020-04-28\n",
            "2020-04-29 - 2020-05-05\n",
            "2020-05-06 - 2020-05-12\n",
            "2020-05-13 - 2020-05-19\n",
            "2020-05-20 - 2020-05-26\n",
            "2020-05-27 - 2020-06-02\n",
            "2020-06-03 - 2020-06-09\n",
            "2020-06-10 - 2020-06-16\n",
            "2020-06-17 - 2020-06-23\n",
            "2020-06-24 - 2020-06-30\n",
            "2020-07-01 - 2020-07-07\n"
          ],
          "name": "stdout"
        }
      ]
    }
  ]
}